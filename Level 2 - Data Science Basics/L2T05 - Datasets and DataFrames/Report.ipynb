{
 "cells": [
  {
   "cell_type": "code",
   "execution_count": null,
   "metadata": {},
   "outputs": [],
   "source": [
    "#Virtual Environment was used to run this code as I faced issues installing Pandas\n",
    "\n",
    "source venv/bin/activate\n",
    "import pandas as pd"
   ]
  },
  {
   "cell_type": "code",
   "execution_count": null,
   "metadata": {
    "id": "rv2oLRnPK36J"
   },
   "outputs": [],
   "source": [
    "# Create a DataFrame with balance.txt\n",
    "\n",
    "df = pd.read_csv(\"balance.txt\", delimiter=r\"\\s+\", quotechar='\"')\n",
    "print(df.head())"
   ]
  },
  {
   "cell_type": "markdown",
   "metadata": {
    "id": "_LXpBJXZLYoh"
   },
   "source": [
    "Write the code needed to produce a report that provides the following information:\n",
    "* Compare the average income based on ethnicity.\n",
    "* On average, do married or single people have a higher balance?\n",
    "* What is the highest income in our dataset?\n",
    "* What is the lowest income in our dataset?\n",
    "* How many cards do we have recorded in our dataset? (Hint: use `sum()`)\n",
    "* How many females do we have information for vs how many males? (Hint: use `count()`For a list of all methods for computation of descriptive stats, explore the [pandas documentation](https://pandas.pydata.org/pandas-docs/stable/reference/frame.html#computations-descriptive-stats)). "
   ]
  },
  {
   "cell_type": "code",
   "execution_count": null,
   "metadata": {},
   "outputs": [],
   "source": [
    "file_path = os.path.join(\".\", \"balance.txt\")  # Assumes balance.txt is in the same directory as the script/notebook\n",
    "df = pd.read_csv(file_path, delimiter=\" \", skipinitialspace=True)\n",
    "\n",
    "df.columns = [\"Balance\", \"Income\", \"Limit\", \"Rating\", \"Cards\", \"Age\", \"Education\", \"Gender\", \"Student\", \"Married\", \"Ethnicity\"]\n",
    "\n",
    "# 1. Comparing the average income based on ethnicity.\n",
    "\n",
    "average_income_by_ethnicity = df.groupby(\"Ethnicity\")[\"Income\"].mean()\n",
    "print(\"Average Income by Ethnicity:\\n\", average_income_by_ethnicity, \"\\n\")\n",
    "\n",
    "# 2. Comparing the average balance for married vs single people.\n",
    "\n",
    "average_balance_by_marital_status = df.groupby(\"Married\")[\"Balance\"].mean()\n",
    "print(\"Average Balance by Marital Status:\\n\", average_balance_by_marital_status, \"\\n\")\n",
    "\n",
    "# 3. Finding the highest income in the dataset.\n",
    "\n",
    "highest_income = df[\"Income\"].max()\n",
    "print(\"Highest Income:\", highest_income, \"\\n\")\n",
    "\n",
    "# 4. Finding the lowest income in the dataset.\n",
    "\n",
    "lowest_income = df[\"Income\"].min()\n",
    "print(\"Lowest Income:\", lowest_income, \"\\n\")\n",
    "\n",
    "# 5. Counting the total number of cards recorded in the dataset.\n",
    "\n",
    "total_cards = df[\"Cards\"].sum()\n",
    "print(\"Total Number of Cards:\", total_cards, \"\\n\")\n",
    "\n",
    "# 6. Counting the number of males vs females\n",
    "\n",
    "print(\"Number of Females:\", gender_count.get(\"Female\", 0))\n",
    "print(\"Number of Males:\", gender_count.get(\"Male\", 0))"
   ]
  }
 ],
 "metadata": {
  "colab": {
   "authorship_tag": "ABX9TyP5J3xG1JXUCQAkP9OLQqdU",
   "provenance": []
  },
  "kernelspec": {
   "display_name": "Python 3",
   "name": "python3"
  },
  "language_info": {
   "name": "python",
   "version": "3.13.2"
  }
 },
 "nbformat": 4,
 "nbformat_minor": 0
}
