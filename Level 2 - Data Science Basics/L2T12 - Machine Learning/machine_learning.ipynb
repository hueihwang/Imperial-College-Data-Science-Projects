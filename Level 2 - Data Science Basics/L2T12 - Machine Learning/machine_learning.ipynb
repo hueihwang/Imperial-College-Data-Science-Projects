{
  "nbformat": 4,
  "nbformat_minor": 0,
  "metadata": {
    "colab": {
      "provenance": []
    },
    "kernelspec": {
      "name": "python3",
      "display_name": "Python 3"
    },
    "language_info": {
      "name": "python"
    }
  },
  "cells": [
    {
      "cell_type": "markdown",
      "source": [
        "# Machine Learning\n",
        "## Compulsory task"
      ],
      "metadata": {
        "id": "IBb6nSAY5T4I"
      }
    },
    {
      "cell_type": "markdown",
      "source": [
        "1. For each of the following examples describe at least one possible input and\n",
        "output. Justify your answers:  \n",
        "* 1.1 A self-driving car\n",
        "* 1.2 Netflix recommendation system\n",
        "* 1.3 Signature recognition\n",
        "* 1.4 Medical diagnosis\n"
      ],
      "metadata": {
        "id": "N02Qu9_f1N45"
      }
    },
    {
      "cell_type": "markdown",
      "source": [
        "1. Answer here\n",
        "\n",
        "|      | Input(s)    | Output     |Justification   |\n",
        "| ---- | ----------- | ---------  |    |\n",
        "| 1.1  |Sensor data  |Steering Direction|The car will have to sense its surroundings using sensor inputs and output the control decisions to control safely  |\n",
        "| 1.2  |Viewing history|Recommendations|The system uses filtering methods to predict and suggest what the user likes to enjoy watching |\n",
        "| 1.3  |Pattern drawn|Label whether real or fake|The system compares the details of the signature with the stored one to verify the identity of the user   |\n",
        "| 1.4  |Symptoms     |Diagnosis|The model identify patterns in patient data to classify whether a specific condition is present   |"
      ],
      "metadata": {
        "id": "-8aBqprP3ypo"
      }
    },
    {
      "cell_type": "markdown",
      "source": [
        "\n",
        "2. For each of the following case studies, determine whether it is appropriate to utilise regression or classification machine learning algorithms. Justify your answers:\n",
        "* 2.1 Classifying emails as promotion or social based on their content and metadata.\n",
        "* 2.2 Forecasting the stock price of a company based on historical data and market trends.\n",
        "* 2.3 Sorting images of animals into different species based on their visual features.\n",
        "* 2.4 Predicting the likelihood of a patient having a particular disease based on medical history and diagnostic test results."
      ],
      "metadata": {
        "id": "l_I2f4C85yNF"
      }
    },
    {
      "cell_type": "markdown",
      "source": [
        "2. Answer here\n",
        "* 2.1 Classification. This is because it is a supervised learning problem where the emails are sorted into individual categoris or labels based on the content.\n",
        "* 2.2 Regression. The stock prices are continuous numerical values, and the goal is to predict a future value\n",
        "* 2.3 Classification. The output (elephants, cats, mouse) is categorical, so the algorithm learns to assign images to one of the multiple classes that are already defined\n",
        "* 2.4 Classification. The output may be a probability, but the task is to predict whether a disease is present or not, which is a binary classification problem."
      ],
      "metadata": {
        "id": "WgMUsqQr6qFU"
      }
    },
    {
      "cell_type": "markdown",
      "source": [
        "3. For each of the following real-world problems, determine whether it is appropriate to utilise a supervised or unsupervised machine learning algorithm. Justify your answers:\n",
        "* 3.1 Detecting anomalies in a manufacturing process using sensor data without prior knowledge of specific anomaly patterns.\n",
        "* 3.2 Predicting customer lifetime value based on historical transaction data and customer demographics.\n",
        "* 3.3 Segmenting customer demographics based on their purchase history, browsing behaviour, and preferences.\n",
        "* 3.4 Analysing social media posts to categorise them into different themes.\n"
      ],
      "metadata": {
        "id": "b6f8UETG64hH"
      }
    },
    {
      "cell_type": "markdown",
      "source": [
        "3. Answer here\n",
        "* 3.1 Unsupervised. There are not labelled examples of what is \"normal\" and what is \"anomaly\". The anomaly detection is based on identifying outliers in unlabelled data.\n",
        "* 3.2 Supervised. Predicting a specific numeric outcome (customer lifetime value), and historical labelled data is available, so this makes it a supervised regression problem\n",
        "* 3.3 Unsupervised. This is because there are no predefined labels. The goal is to discover natural groupings or patterns in customer behaviour, which is ideal for clustering algorithms\n",
        "* 3.4 Unsupervised. If themes or categories are not pre-labelled, then we need unsupervised techniques to group similar posts."
      ],
      "metadata": {
        "id": "W6dTYBvd675O"
      }
    },
    {
      "cell_type": "markdown",
      "source": [
        "4.\n",
        "For each of the following real-world problems, determine whether it is appropriate to utilise semi-supervised machine learning algorithms. Justify your answers:\n",
        "* 4.1 Predicting fraudulent financial transactions using a dataset where most transactions are labelled as fraudulent or legitimate.\n",
        "* 4.2 Analysing customer satisfaction surveys where only a small portion of the data is labelled with satisfaction ratings.\n",
        "*4.3 Identifying spam emails in a dataset where the majority of emails are labelled.\n",
        "* 4.4 Predicting the probability of default for credit card applicants based on their complete financial and credit-related information.\n"
      ],
      "metadata": {
        "id": "bqsun96o64xe"
      }
    },
    {
      "cell_type": "markdown",
      "source": [
        "4. Answer here\n",
        "* 4.1 Appropriate. Fraud detection has limited labelled examples, but a lot of unlabelled data. Semi-supervised learning can leverage on both\n",
        "* 4.2 Appropriate. This is because when a small portion of data is labelled, semi-supervised algorithms can use unlabelled data to improve accuracy and generalisation\n",
        "* 4.3 Inappropriate. Since the majority of emails are already labelled, a fully supervised classification model will be more efficient and accurate\n",
        "* 4.4 Inappropriate. If the dataset has full financial and credit-related labels, there is no need for semi-supervised learning, instead, using supervised learning is the best approach"
      ],
      "metadata": {
        "id": "aTWugZ6q68GF"
      }
    }
  ]
}